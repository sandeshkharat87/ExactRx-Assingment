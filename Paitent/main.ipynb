{
 "cells": [
  {
   "cell_type": "code",
   "execution_count": 61,
   "metadata": {},
   "outputs": [],
   "source": [
    "from langchain_ollama.chat_models import ChatOllama\n",
    "from langchain_core.output_parsers import JsonOutputParser, StrOutputParser\n",
    "from langchain_core.prompts import PromptTemplate\n",
    "from pprint import pprint\n",
    "from langchain_core.pydantic_v1 import BaseModel, Field"
   ]
  },
  {
   "cell_type": "code",
   "execution_count": 62,
   "metadata": {},
   "outputs": [],
   "source": [
    "\n",
    "llm =  ChatOllama(model=\"phi3:3.8b\")\n",
    "# llm =  ChatOllama(model=\"cow/gemma2_tools:2b\")"
   ]
  },
  {
   "cell_type": "code",
   "execution_count": 67,
   "metadata": {},
   "outputs": [],
   "source": [
    "\n",
    "_template = \"\"\"\n",
    "You are a helpful bot. Your task is to find information from patient data. Extracts the following\n",
    "properties name, gender, age, weight, height, BMI, chief medical complaint.\n",
    "\n",
    "\"name\": Name of patient , \n",
    "\n",
    "\"gender\": Gender of patient \n",
    "\n",
    "\"age\": Age of patient\n",
    "\n",
    "\"weight\": weight of patient,\n",
    "\n",
    "\"height\": height of patient\n",
    "\n",
    "\"BMI\": BMI of patient\n",
    "\n",
    "\"chief_medical_complaint\": chief_medical_complaint of patient\n",
    "\n",
    "Always remeber:\n",
    "- Give parsed information in JSON Format \n",
    "- Value should be wrapped in \"\"\n",
    "- Dont assume informations. If only available then prase\n",
    "- If you couldnt find value then value should be \"not_given\"\n",
    "\n",
    "Follow this format:\n",
    "\n",
    "    \"key\" : \"value\"\n",
    "\n",
    "Remember:\n",
    "If value not available then return value for that key should be \"not_given\"\n",
    "\n",
    "patient_data: {patient_data}\n",
    "data:\n",
    "\"\"\"\n",
    "prompt = PromptTemplate.from_template(_template)"
   ]
  },
  {
   "cell_type": "code",
   "execution_count": 68,
   "metadata": {},
   "outputs": [],
   "source": [
    "\n",
    "class Patient(BaseModel):\n",
    "    name: str = \"Name of patient\" \n",
    "    gender:str  = \"Gender of patient\" \n",
    "    age:str =  \"Age of patient\"\n",
    "    weight: str =  \"weight of patient,\"\n",
    "    height:str =  \"height of patient\"\n",
    "    BMI :str =  \"BMI of patient\"\n",
    "    chief_medical_complaint:str =  \"chief_medical_complaint of patient\"\n",
    "\n",
    "\n",
    "\n",
    "# llm_ex =  (prompt | llm.with_structured_output(Patient) )\n",
    "llm_ex =  (prompt | llm | JsonOutputParser())\n",
    "\n"
   ]
  },
  {
   "cell_type": "code",
   "execution_count": 69,
   "metadata": {},
   "outputs": [],
   "source": [
    "data1 = \"\"\"\n",
    "Patient 1: John R. Whitaker, a 52-year-old male, stands 5'10\" (70 inches) tall and weighs 198\n",
    "lbs. Mr. Whitaker has a history of hypertension and type 2 diabetes, both diagnosed in his\n",
    "mid-40s, and recently began experiencing worsening peripheral neuropathy in his lower\n",
    "extremities. He also reports chronic lower back pain, which he attributes to years of heavy\n",
    "lifting in his previous occupation as a construction worker. Over the past six months, John\n",
    "has developed shortness of breath during mild exertion, prompting concerns about potential\n",
    "early-stage congestive heart failure. Additionally, he struggles with obesity-related sleep\n",
    "apnea, contributing to fatigue and cognitive fog throughout the day. Despite his conditions,\n",
    "Mr. Whitaker maintains a generally positive outlook but admits to inconsistent medication\n",
    "adherence and difficulty following a healthy diet.\n",
    "\"\"\"\n",
    "\n",
    "data2 = \"\"\"\n",
    "Patient 2: For the past six months, Emily J. Rivera has been dealing with persistent chest\n",
    "tightness and shortness of breath, especially during moderate activity. She works as a\n",
    "schoolteacher and describes her symptoms as worsening under stress, which she initially\n",
    "dismissed as anxiety. A thorough evaluation revealed mild asthma, along with borderline high\n",
    "cholesterol levels. Emily is 41 years old, 5'5\" (65 inches) tall, and weighs 172 lbs. She also\n",
    "complains of intermittent joint stiffness in her hands, particularly in the mornings, which her\n",
    "physician suspects could be early osteoarthritis. Emily’s sedentary lifestyle and inconsistent\n",
    "exercise routine have contributed to her struggles with maintaining a healthy weight, though\n",
    "she remains committed to improving her overall health with proper guidance and treatment.\n",
    "\"\"\"\n",
    "\n",
    "\n",
    "data3 = \"\"\"\n",
    "Patient 3: Karen L. Thompson, a 38-year-old female, is 5'4\" (64 inches) tall and weighs 162\n",
    "lbs. She has a history of irritable bowel syndrome (IBS) and recurrent migraines, both of\n",
    "which have intensified over the past year. Karen also experiences chronic fatigue and joint\n",
    "pain, leading her physician to investigate possible early-stage rheumatoid arthritis. She\n",
    "reports frequent episodes of dizziness and occasional heart palpitations, which have been\n",
    "attributed to mild anemia and elevated stress levels. Karen’s symptoms are exacerbated by\n",
    "her demanding job as a paralegal, where long hours and poor posture have contributed to\n",
    "persistent neck and shoulder tension. Recently, she has begun experiencing intermittent\n",
    "insomnia, further impacting her energy levels and overall well-being.\n",
    "\"\"\""
   ]
  },
  {
   "cell_type": "code",
   "execution_count": 70,
   "metadata": {},
   "outputs": [
    {
     "ename": "OutputParserException",
     "evalue": "Invalid json output: {\n    \"name\": \"John R. Whitaker\",\n    \"gender\":\"male\",\n    \"age\":52,\n    \"weight\":198,\n    \"height\":70,\n    \"BMI\":30.4 (calculated value),\n    \"chief_medical_complaint\":[\"worsening peripheral neuropathy in lower extremities\", \"chronic lower back pain\"]\n}\nFor troubleshooting, visit: https://python.langchain.com/docs/troubleshooting/errors/OUTPUT_PARSING_FAILURE",
     "output_type": "error",
     "traceback": [
      "\u001b[0;31m---------------------------------------------------------------------------\u001b[0m",
      "\u001b[0;31mJSONDecodeError\u001b[0m                           Traceback (most recent call last)",
      "File \u001b[0;32m~/CODES/envs_global/LLM_BASE/lib/python3.10/site-packages/langchain_core/output_parsers/json.py:83\u001b[0m, in \u001b[0;36mJsonOutputParser.parse_result\u001b[0;34m(self, result, partial)\u001b[0m\n\u001b[1;32m     <a href='file:///home/wpnx/CODES/envs_global/LLM_BASE/lib/python3.10/site-packages/langchain_core/output_parsers/json.py?line=81'>82</a>\u001b[0m \u001b[39mtry\u001b[39;00m:\n\u001b[0;32m---> <a href='file:///home/wpnx/CODES/envs_global/LLM_BASE/lib/python3.10/site-packages/langchain_core/output_parsers/json.py?line=82'>83</a>\u001b[0m     \u001b[39mreturn\u001b[39;00m parse_json_markdown(text)\n\u001b[1;32m     <a href='file:///home/wpnx/CODES/envs_global/LLM_BASE/lib/python3.10/site-packages/langchain_core/output_parsers/json.py?line=83'>84</a>\u001b[0m \u001b[39mexcept\u001b[39;00m JSONDecodeError \u001b[39mas\u001b[39;00m e:\n",
      "File \u001b[0;32m~/CODES/envs_global/LLM_BASE/lib/python3.10/site-packages/langchain_core/utils/json.py:144\u001b[0m, in \u001b[0;36mparse_json_markdown\u001b[0;34m(json_string, parser)\u001b[0m\n\u001b[1;32m    <a href='file:///home/wpnx/CODES/envs_global/LLM_BASE/lib/python3.10/site-packages/langchain_core/utils/json.py?line=142'>143</a>\u001b[0m     json_str \u001b[39m=\u001b[39m json_string \u001b[39mif\u001b[39;00m match \u001b[39mis\u001b[39;00m \u001b[39mNone\u001b[39;00m \u001b[39melse\u001b[39;00m match\u001b[39m.\u001b[39mgroup(\u001b[39m2\u001b[39m)\n\u001b[0;32m--> <a href='file:///home/wpnx/CODES/envs_global/LLM_BASE/lib/python3.10/site-packages/langchain_core/utils/json.py?line=143'>144</a>\u001b[0m \u001b[39mreturn\u001b[39;00m _parse_json(json_str, parser\u001b[39m=\u001b[39;49mparser)\n",
      "File \u001b[0;32m~/CODES/envs_global/LLM_BASE/lib/python3.10/site-packages/langchain_core/utils/json.py:160\u001b[0m, in \u001b[0;36m_parse_json\u001b[0;34m(json_str, parser)\u001b[0m\n\u001b[1;32m    <a href='file:///home/wpnx/CODES/envs_global/LLM_BASE/lib/python3.10/site-packages/langchain_core/utils/json.py?line=158'>159</a>\u001b[0m \u001b[39m# Parse the JSON string into a Python dictionary\u001b[39;00m\n\u001b[0;32m--> <a href='file:///home/wpnx/CODES/envs_global/LLM_BASE/lib/python3.10/site-packages/langchain_core/utils/json.py?line=159'>160</a>\u001b[0m \u001b[39mreturn\u001b[39;00m parser(json_str)\n",
      "File \u001b[0;32m~/CODES/envs_global/LLM_BASE/lib/python3.10/site-packages/langchain_core/utils/json.py:118\u001b[0m, in \u001b[0;36mparse_partial_json\u001b[0;34m(s, strict)\u001b[0m\n\u001b[1;32m    <a href='file:///home/wpnx/CODES/envs_global/LLM_BASE/lib/python3.10/site-packages/langchain_core/utils/json.py?line=114'>115</a>\u001b[0m \u001b[39m# If we got here, we ran out of characters to remove\u001b[39;00m\n\u001b[1;32m    <a href='file:///home/wpnx/CODES/envs_global/LLM_BASE/lib/python3.10/site-packages/langchain_core/utils/json.py?line=115'>116</a>\u001b[0m \u001b[39m# and still couldn't parse the string as JSON, so return the parse error\u001b[39;00m\n\u001b[1;32m    <a href='file:///home/wpnx/CODES/envs_global/LLM_BASE/lib/python3.10/site-packages/langchain_core/utils/json.py?line=116'>117</a>\u001b[0m \u001b[39m# for the original string.\u001b[39;00m\n\u001b[0;32m--> <a href='file:///home/wpnx/CODES/envs_global/LLM_BASE/lib/python3.10/site-packages/langchain_core/utils/json.py?line=117'>118</a>\u001b[0m \u001b[39mreturn\u001b[39;00m json\u001b[39m.\u001b[39;49mloads(s, strict\u001b[39m=\u001b[39;49mstrict)\n",
      "File \u001b[0;32m/usr/lib/python3.10/json/__init__.py:359\u001b[0m, in \u001b[0;36mloads\u001b[0;34m(s, cls, object_hook, parse_float, parse_int, parse_constant, object_pairs_hook, **kw)\u001b[0m\n\u001b[1;32m    <a href='file:///usr/lib/python3.10/json/__init__.py?line=357'>358</a>\u001b[0m     kw[\u001b[39m'\u001b[39m\u001b[39mparse_constant\u001b[39m\u001b[39m'\u001b[39m] \u001b[39m=\u001b[39m parse_constant\n\u001b[0;32m--> <a href='file:///usr/lib/python3.10/json/__init__.py?line=358'>359</a>\u001b[0m \u001b[39mreturn\u001b[39;00m \u001b[39mcls\u001b[39;49m(\u001b[39m*\u001b[39;49m\u001b[39m*\u001b[39;49mkw)\u001b[39m.\u001b[39;49mdecode(s)\n",
      "File \u001b[0;32m/usr/lib/python3.10/json/decoder.py:337\u001b[0m, in \u001b[0;36mJSONDecoder.decode\u001b[0;34m(self, s, _w)\u001b[0m\n\u001b[1;32m    <a href='file:///usr/lib/python3.10/json/decoder.py?line=332'>333</a>\u001b[0m \u001b[39m\u001b[39m\u001b[39m\"\"\"Return the Python representation of ``s`` (a ``str`` instance\u001b[39;00m\n\u001b[1;32m    <a href='file:///usr/lib/python3.10/json/decoder.py?line=333'>334</a>\u001b[0m \u001b[39mcontaining a JSON document).\u001b[39;00m\n\u001b[1;32m    <a href='file:///usr/lib/python3.10/json/decoder.py?line=334'>335</a>\u001b[0m \n\u001b[1;32m    <a href='file:///usr/lib/python3.10/json/decoder.py?line=335'>336</a>\u001b[0m \u001b[39m\"\"\"\u001b[39;00m\n\u001b[0;32m--> <a href='file:///usr/lib/python3.10/json/decoder.py?line=336'>337</a>\u001b[0m obj, end \u001b[39m=\u001b[39m \u001b[39mself\u001b[39;49m\u001b[39m.\u001b[39;49mraw_decode(s, idx\u001b[39m=\u001b[39;49m_w(s, \u001b[39m0\u001b[39;49m)\u001b[39m.\u001b[39;49mend())\n\u001b[1;32m    <a href='file:///usr/lib/python3.10/json/decoder.py?line=337'>338</a>\u001b[0m end \u001b[39m=\u001b[39m _w(s, end)\u001b[39m.\u001b[39mend()\n",
      "File \u001b[0;32m/usr/lib/python3.10/json/decoder.py:353\u001b[0m, in \u001b[0;36mJSONDecoder.raw_decode\u001b[0;34m(self, s, idx)\u001b[0m\n\u001b[1;32m    <a href='file:///usr/lib/python3.10/json/decoder.py?line=351'>352</a>\u001b[0m \u001b[39mtry\u001b[39;00m:\n\u001b[0;32m--> <a href='file:///usr/lib/python3.10/json/decoder.py?line=352'>353</a>\u001b[0m     obj, end \u001b[39m=\u001b[39m \u001b[39mself\u001b[39;49m\u001b[39m.\u001b[39;49mscan_once(s, idx)\n\u001b[1;32m    <a href='file:///usr/lib/python3.10/json/decoder.py?line=353'>354</a>\u001b[0m \u001b[39mexcept\u001b[39;00m \u001b[39mStopIteration\u001b[39;00m \u001b[39mas\u001b[39;00m err:\n",
      "\u001b[0;31mJSONDecodeError\u001b[0m: Expecting ',' delimiter: line 7 column 16 (char 119)",
      "\nThe above exception was the direct cause of the following exception:\n",
      "\u001b[0;31mOutputParserException\u001b[0m                     Traceback (most recent call last)",
      "Cell \u001b[0;32mIn[70], line 1\u001b[0m\n\u001b[0;32m----> 1\u001b[0m \u001b[43mllm_ex\u001b[49m\u001b[38;5;241;43m.\u001b[39;49m\u001b[43minvoke\u001b[49m\u001b[43m(\u001b[49m\u001b[43mdata1\u001b[49m\u001b[43m)\u001b[49m\n",
      "File \u001b[0;32m~/CODES/envs_global/LLM_BASE/lib/python3.10/site-packages/langchain_core/runnables/base.py:3024\u001b[0m, in \u001b[0;36mRunnableSequence.invoke\u001b[0;34m(self, input, config, **kwargs)\u001b[0m\n\u001b[1;32m   <a href='file:///home/wpnx/CODES/envs_global/LLM_BASE/lib/python3.10/site-packages/langchain_core/runnables/base.py?line=3021'>3022</a>\u001b[0m             \u001b[39minput\u001b[39m \u001b[39m=\u001b[39m context\u001b[39m.\u001b[39mrun(step\u001b[39m.\u001b[39minvoke, \u001b[39minput\u001b[39m, config, \u001b[39m*\u001b[39m\u001b[39m*\u001b[39mkwargs)\n\u001b[1;32m   <a href='file:///home/wpnx/CODES/envs_global/LLM_BASE/lib/python3.10/site-packages/langchain_core/runnables/base.py?line=3022'>3023</a>\u001b[0m         \u001b[39melse\u001b[39;00m:\n\u001b[0;32m-> <a href='file:///home/wpnx/CODES/envs_global/LLM_BASE/lib/python3.10/site-packages/langchain_core/runnables/base.py?line=3023'>3024</a>\u001b[0m             \u001b[39minput\u001b[39m \u001b[39m=\u001b[39m context\u001b[39m.\u001b[39;49mrun(step\u001b[39m.\u001b[39;49minvoke, \u001b[39minput\u001b[39;49m, config)\n\u001b[1;32m   <a href='file:///home/wpnx/CODES/envs_global/LLM_BASE/lib/python3.10/site-packages/langchain_core/runnables/base.py?line=3024'>3025</a>\u001b[0m \u001b[39m# finish the root run\u001b[39;00m\n\u001b[1;32m   <a href='file:///home/wpnx/CODES/envs_global/LLM_BASE/lib/python3.10/site-packages/langchain_core/runnables/base.py?line=3025'>3026</a>\u001b[0m \u001b[39mexcept\u001b[39;00m \u001b[39mBaseException\u001b[39;00m \u001b[39mas\u001b[39;00m e:\n",
      "File \u001b[0;32m~/CODES/envs_global/LLM_BASE/lib/python3.10/site-packages/langchain_core/output_parsers/base.py:193\u001b[0m, in \u001b[0;36mBaseOutputParser.invoke\u001b[0;34m(self, input, config, **kwargs)\u001b[0m\n\u001b[1;32m    <a href='file:///home/wpnx/CODES/envs_global/LLM_BASE/lib/python3.10/site-packages/langchain_core/output_parsers/base.py?line=185'>186</a>\u001b[0m \u001b[39mdef\u001b[39;00m \u001b[39minvoke\u001b[39m(\n\u001b[1;32m    <a href='file:///home/wpnx/CODES/envs_global/LLM_BASE/lib/python3.10/site-packages/langchain_core/output_parsers/base.py?line=186'>187</a>\u001b[0m     \u001b[39mself\u001b[39m,\n\u001b[1;32m    <a href='file:///home/wpnx/CODES/envs_global/LLM_BASE/lib/python3.10/site-packages/langchain_core/output_parsers/base.py?line=187'>188</a>\u001b[0m     \u001b[39minput\u001b[39m: Union[\u001b[39mstr\u001b[39m, BaseMessage],\n\u001b[1;32m    <a href='file:///home/wpnx/CODES/envs_global/LLM_BASE/lib/python3.10/site-packages/langchain_core/output_parsers/base.py?line=188'>189</a>\u001b[0m     config: Optional[RunnableConfig] \u001b[39m=\u001b[39m \u001b[39mNone\u001b[39;00m,\n\u001b[1;32m    <a href='file:///home/wpnx/CODES/envs_global/LLM_BASE/lib/python3.10/site-packages/langchain_core/output_parsers/base.py?line=189'>190</a>\u001b[0m     \u001b[39m*\u001b[39m\u001b[39m*\u001b[39mkwargs: Any,\n\u001b[1;32m    <a href='file:///home/wpnx/CODES/envs_global/LLM_BASE/lib/python3.10/site-packages/langchain_core/output_parsers/base.py?line=190'>191</a>\u001b[0m ) \u001b[39m-\u001b[39m\u001b[39m>\u001b[39m T:\n\u001b[1;32m    <a href='file:///home/wpnx/CODES/envs_global/LLM_BASE/lib/python3.10/site-packages/langchain_core/output_parsers/base.py?line=191'>192</a>\u001b[0m     \u001b[39mif\u001b[39;00m \u001b[39misinstance\u001b[39m(\u001b[39minput\u001b[39m, BaseMessage):\n\u001b[0;32m--> <a href='file:///home/wpnx/CODES/envs_global/LLM_BASE/lib/python3.10/site-packages/langchain_core/output_parsers/base.py?line=192'>193</a>\u001b[0m         \u001b[39mreturn\u001b[39;00m \u001b[39mself\u001b[39;49m\u001b[39m.\u001b[39;49m_call_with_config(\n\u001b[1;32m    <a href='file:///home/wpnx/CODES/envs_global/LLM_BASE/lib/python3.10/site-packages/langchain_core/output_parsers/base.py?line=193'>194</a>\u001b[0m             \u001b[39mlambda\u001b[39;49;00m inner_input: \u001b[39mself\u001b[39;49m\u001b[39m.\u001b[39;49mparse_result(\n\u001b[1;32m    <a href='file:///home/wpnx/CODES/envs_global/LLM_BASE/lib/python3.10/site-packages/langchain_core/output_parsers/base.py?line=194'>195</a>\u001b[0m                 [ChatGeneration(message\u001b[39m=\u001b[39;49minner_input)]\n\u001b[1;32m    <a href='file:///home/wpnx/CODES/envs_global/LLM_BASE/lib/python3.10/site-packages/langchain_core/output_parsers/base.py?line=195'>196</a>\u001b[0m             ),\n\u001b[1;32m    <a href='file:///home/wpnx/CODES/envs_global/LLM_BASE/lib/python3.10/site-packages/langchain_core/output_parsers/base.py?line=196'>197</a>\u001b[0m             \u001b[39minput\u001b[39;49m,\n\u001b[1;32m    <a href='file:///home/wpnx/CODES/envs_global/LLM_BASE/lib/python3.10/site-packages/langchain_core/output_parsers/base.py?line=197'>198</a>\u001b[0m             config,\n\u001b[1;32m    <a href='file:///home/wpnx/CODES/envs_global/LLM_BASE/lib/python3.10/site-packages/langchain_core/output_parsers/base.py?line=198'>199</a>\u001b[0m             run_type\u001b[39m=\u001b[39;49m\u001b[39m\"\u001b[39;49m\u001b[39mparser\u001b[39;49m\u001b[39m\"\u001b[39;49m,\n\u001b[1;32m    <a href='file:///home/wpnx/CODES/envs_global/LLM_BASE/lib/python3.10/site-packages/langchain_core/output_parsers/base.py?line=199'>200</a>\u001b[0m         )\n\u001b[1;32m    <a href='file:///home/wpnx/CODES/envs_global/LLM_BASE/lib/python3.10/site-packages/langchain_core/output_parsers/base.py?line=200'>201</a>\u001b[0m     \u001b[39melse\u001b[39;00m:\n\u001b[1;32m    <a href='file:///home/wpnx/CODES/envs_global/LLM_BASE/lib/python3.10/site-packages/langchain_core/output_parsers/base.py?line=201'>202</a>\u001b[0m         \u001b[39mreturn\u001b[39;00m \u001b[39mself\u001b[39m\u001b[39m.\u001b[39m_call_with_config(\n\u001b[1;32m    <a href='file:///home/wpnx/CODES/envs_global/LLM_BASE/lib/python3.10/site-packages/langchain_core/output_parsers/base.py?line=202'>203</a>\u001b[0m             \u001b[39mlambda\u001b[39;00m inner_input: \u001b[39mself\u001b[39m\u001b[39m.\u001b[39mparse_result([Generation(text\u001b[39m=\u001b[39minner_input)]),\n\u001b[1;32m    <a href='file:///home/wpnx/CODES/envs_global/LLM_BASE/lib/python3.10/site-packages/langchain_core/output_parsers/base.py?line=203'>204</a>\u001b[0m             \u001b[39minput\u001b[39m,\n\u001b[1;32m    <a href='file:///home/wpnx/CODES/envs_global/LLM_BASE/lib/python3.10/site-packages/langchain_core/output_parsers/base.py?line=204'>205</a>\u001b[0m             config,\n\u001b[1;32m    <a href='file:///home/wpnx/CODES/envs_global/LLM_BASE/lib/python3.10/site-packages/langchain_core/output_parsers/base.py?line=205'>206</a>\u001b[0m             run_type\u001b[39m=\u001b[39m\u001b[39m\"\u001b[39m\u001b[39mparser\u001b[39m\u001b[39m\"\u001b[39m,\n\u001b[1;32m    <a href='file:///home/wpnx/CODES/envs_global/LLM_BASE/lib/python3.10/site-packages/langchain_core/output_parsers/base.py?line=206'>207</a>\u001b[0m         )\n",
      "File \u001b[0;32m~/CODES/envs_global/LLM_BASE/lib/python3.10/site-packages/langchain_core/runnables/base.py:1927\u001b[0m, in \u001b[0;36mRunnable._call_with_config\u001b[0;34m(self, func, input, config, run_type, serialized, **kwargs)\u001b[0m\n\u001b[1;32m   <a href='file:///home/wpnx/CODES/envs_global/LLM_BASE/lib/python3.10/site-packages/langchain_core/runnables/base.py?line=1922'>1923</a>\u001b[0m     context \u001b[39m=\u001b[39m copy_context()\n\u001b[1;32m   <a href='file:///home/wpnx/CODES/envs_global/LLM_BASE/lib/python3.10/site-packages/langchain_core/runnables/base.py?line=1923'>1924</a>\u001b[0m     context\u001b[39m.\u001b[39mrun(_set_config_context, child_config)\n\u001b[1;32m   <a href='file:///home/wpnx/CODES/envs_global/LLM_BASE/lib/python3.10/site-packages/langchain_core/runnables/base.py?line=1924'>1925</a>\u001b[0m     output \u001b[39m=\u001b[39m cast(\n\u001b[1;32m   <a href='file:///home/wpnx/CODES/envs_global/LLM_BASE/lib/python3.10/site-packages/langchain_core/runnables/base.py?line=1925'>1926</a>\u001b[0m         Output,\n\u001b[0;32m-> <a href='file:///home/wpnx/CODES/envs_global/LLM_BASE/lib/python3.10/site-packages/langchain_core/runnables/base.py?line=1926'>1927</a>\u001b[0m         context\u001b[39m.\u001b[39;49mrun(\n\u001b[1;32m   <a href='file:///home/wpnx/CODES/envs_global/LLM_BASE/lib/python3.10/site-packages/langchain_core/runnables/base.py?line=1927'>1928</a>\u001b[0m             call_func_with_variable_args,  \u001b[39m# type: ignore[arg-type]\u001b[39;49;00m\n\u001b[1;32m   <a href='file:///home/wpnx/CODES/envs_global/LLM_BASE/lib/python3.10/site-packages/langchain_core/runnables/base.py?line=1928'>1929</a>\u001b[0m             func,  \u001b[39m# type: ignore[arg-type]\u001b[39;49;00m\n\u001b[1;32m   <a href='file:///home/wpnx/CODES/envs_global/LLM_BASE/lib/python3.10/site-packages/langchain_core/runnables/base.py?line=1929'>1930</a>\u001b[0m             \u001b[39minput\u001b[39;49m,  \u001b[39m# type: ignore[arg-type]\u001b[39;49;00m\n\u001b[1;32m   <a href='file:///home/wpnx/CODES/envs_global/LLM_BASE/lib/python3.10/site-packages/langchain_core/runnables/base.py?line=1930'>1931</a>\u001b[0m             config,\n\u001b[1;32m   <a href='file:///home/wpnx/CODES/envs_global/LLM_BASE/lib/python3.10/site-packages/langchain_core/runnables/base.py?line=1931'>1932</a>\u001b[0m             run_manager,\n\u001b[1;32m   <a href='file:///home/wpnx/CODES/envs_global/LLM_BASE/lib/python3.10/site-packages/langchain_core/runnables/base.py?line=1932'>1933</a>\u001b[0m             \u001b[39m*\u001b[39;49m\u001b[39m*\u001b[39;49mkwargs,\n\u001b[1;32m   <a href='file:///home/wpnx/CODES/envs_global/LLM_BASE/lib/python3.10/site-packages/langchain_core/runnables/base.py?line=1933'>1934</a>\u001b[0m         ),\n\u001b[1;32m   <a href='file:///home/wpnx/CODES/envs_global/LLM_BASE/lib/python3.10/site-packages/langchain_core/runnables/base.py?line=1934'>1935</a>\u001b[0m     )\n\u001b[1;32m   <a href='file:///home/wpnx/CODES/envs_global/LLM_BASE/lib/python3.10/site-packages/langchain_core/runnables/base.py?line=1935'>1936</a>\u001b[0m \u001b[39mexcept\u001b[39;00m \u001b[39mBaseException\u001b[39;00m \u001b[39mas\u001b[39;00m e:\n\u001b[1;32m   <a href='file:///home/wpnx/CODES/envs_global/LLM_BASE/lib/python3.10/site-packages/langchain_core/runnables/base.py?line=1936'>1937</a>\u001b[0m     run_manager\u001b[39m.\u001b[39mon_chain_error(e)\n",
      "File \u001b[0;32m~/CODES/envs_global/LLM_BASE/lib/python3.10/site-packages/langchain_core/runnables/config.py:396\u001b[0m, in \u001b[0;36mcall_func_with_variable_args\u001b[0;34m(func, input, config, run_manager, **kwargs)\u001b[0m\n\u001b[1;32m    <a href='file:///home/wpnx/CODES/envs_global/LLM_BASE/lib/python3.10/site-packages/langchain_core/runnables/config.py?line=393'>394</a>\u001b[0m \u001b[39mif\u001b[39;00m run_manager \u001b[39mis\u001b[39;00m \u001b[39mnot\u001b[39;00m \u001b[39mNone\u001b[39;00m \u001b[39mand\u001b[39;00m accepts_run_manager(func):\n\u001b[1;32m    <a href='file:///home/wpnx/CODES/envs_global/LLM_BASE/lib/python3.10/site-packages/langchain_core/runnables/config.py?line=394'>395</a>\u001b[0m     kwargs[\u001b[39m\"\u001b[39m\u001b[39mrun_manager\u001b[39m\u001b[39m\"\u001b[39m] \u001b[39m=\u001b[39m run_manager\n\u001b[0;32m--> <a href='file:///home/wpnx/CODES/envs_global/LLM_BASE/lib/python3.10/site-packages/langchain_core/runnables/config.py?line=395'>396</a>\u001b[0m \u001b[39mreturn\u001b[39;00m func(\u001b[39minput\u001b[39;49m, \u001b[39m*\u001b[39;49m\u001b[39m*\u001b[39;49mkwargs)\n",
      "File \u001b[0;32m~/CODES/envs_global/LLM_BASE/lib/python3.10/site-packages/langchain_core/output_parsers/base.py:194\u001b[0m, in \u001b[0;36mBaseOutputParser.invoke.<locals>.<lambda>\u001b[0;34m(inner_input)\u001b[0m\n\u001b[1;32m    <a href='file:///home/wpnx/CODES/envs_global/LLM_BASE/lib/python3.10/site-packages/langchain_core/output_parsers/base.py?line=185'>186</a>\u001b[0m \u001b[39mdef\u001b[39;00m \u001b[39minvoke\u001b[39m(\n\u001b[1;32m    <a href='file:///home/wpnx/CODES/envs_global/LLM_BASE/lib/python3.10/site-packages/langchain_core/output_parsers/base.py?line=186'>187</a>\u001b[0m     \u001b[39mself\u001b[39m,\n\u001b[1;32m    <a href='file:///home/wpnx/CODES/envs_global/LLM_BASE/lib/python3.10/site-packages/langchain_core/output_parsers/base.py?line=187'>188</a>\u001b[0m     \u001b[39minput\u001b[39m: Union[\u001b[39mstr\u001b[39m, BaseMessage],\n\u001b[1;32m    <a href='file:///home/wpnx/CODES/envs_global/LLM_BASE/lib/python3.10/site-packages/langchain_core/output_parsers/base.py?line=188'>189</a>\u001b[0m     config: Optional[RunnableConfig] \u001b[39m=\u001b[39m \u001b[39mNone\u001b[39;00m,\n\u001b[1;32m    <a href='file:///home/wpnx/CODES/envs_global/LLM_BASE/lib/python3.10/site-packages/langchain_core/output_parsers/base.py?line=189'>190</a>\u001b[0m     \u001b[39m*\u001b[39m\u001b[39m*\u001b[39mkwargs: Any,\n\u001b[1;32m    <a href='file:///home/wpnx/CODES/envs_global/LLM_BASE/lib/python3.10/site-packages/langchain_core/output_parsers/base.py?line=190'>191</a>\u001b[0m ) \u001b[39m-\u001b[39m\u001b[39m>\u001b[39m T:\n\u001b[1;32m    <a href='file:///home/wpnx/CODES/envs_global/LLM_BASE/lib/python3.10/site-packages/langchain_core/output_parsers/base.py?line=191'>192</a>\u001b[0m     \u001b[39mif\u001b[39;00m \u001b[39misinstance\u001b[39m(\u001b[39minput\u001b[39m, BaseMessage):\n\u001b[1;32m    <a href='file:///home/wpnx/CODES/envs_global/LLM_BASE/lib/python3.10/site-packages/langchain_core/output_parsers/base.py?line=192'>193</a>\u001b[0m         \u001b[39mreturn\u001b[39;00m \u001b[39mself\u001b[39m\u001b[39m.\u001b[39m_call_with_config(\n\u001b[0;32m--> <a href='file:///home/wpnx/CODES/envs_global/LLM_BASE/lib/python3.10/site-packages/langchain_core/output_parsers/base.py?line=193'>194</a>\u001b[0m             \u001b[39mlambda\u001b[39;00m inner_input: \u001b[39mself\u001b[39;49m\u001b[39m.\u001b[39;49mparse_result(\n\u001b[1;32m    <a href='file:///home/wpnx/CODES/envs_global/LLM_BASE/lib/python3.10/site-packages/langchain_core/output_parsers/base.py?line=194'>195</a>\u001b[0m                 [ChatGeneration(message\u001b[39m=\u001b[39;49minner_input)]\n\u001b[1;32m    <a href='file:///home/wpnx/CODES/envs_global/LLM_BASE/lib/python3.10/site-packages/langchain_core/output_parsers/base.py?line=195'>196</a>\u001b[0m             ),\n\u001b[1;32m    <a href='file:///home/wpnx/CODES/envs_global/LLM_BASE/lib/python3.10/site-packages/langchain_core/output_parsers/base.py?line=196'>197</a>\u001b[0m             \u001b[39minput\u001b[39m,\n\u001b[1;32m    <a href='file:///home/wpnx/CODES/envs_global/LLM_BASE/lib/python3.10/site-packages/langchain_core/output_parsers/base.py?line=197'>198</a>\u001b[0m             config,\n\u001b[1;32m    <a href='file:///home/wpnx/CODES/envs_global/LLM_BASE/lib/python3.10/site-packages/langchain_core/output_parsers/base.py?line=198'>199</a>\u001b[0m             run_type\u001b[39m=\u001b[39m\u001b[39m\"\u001b[39m\u001b[39mparser\u001b[39m\u001b[39m\"\u001b[39m,\n\u001b[1;32m    <a href='file:///home/wpnx/CODES/envs_global/LLM_BASE/lib/python3.10/site-packages/langchain_core/output_parsers/base.py?line=199'>200</a>\u001b[0m         )\n\u001b[1;32m    <a href='file:///home/wpnx/CODES/envs_global/LLM_BASE/lib/python3.10/site-packages/langchain_core/output_parsers/base.py?line=200'>201</a>\u001b[0m     \u001b[39melse\u001b[39;00m:\n\u001b[1;32m    <a href='file:///home/wpnx/CODES/envs_global/LLM_BASE/lib/python3.10/site-packages/langchain_core/output_parsers/base.py?line=201'>202</a>\u001b[0m         \u001b[39mreturn\u001b[39;00m \u001b[39mself\u001b[39m\u001b[39m.\u001b[39m_call_with_config(\n\u001b[1;32m    <a href='file:///home/wpnx/CODES/envs_global/LLM_BASE/lib/python3.10/site-packages/langchain_core/output_parsers/base.py?line=202'>203</a>\u001b[0m             \u001b[39mlambda\u001b[39;00m inner_input: \u001b[39mself\u001b[39m\u001b[39m.\u001b[39mparse_result([Generation(text\u001b[39m=\u001b[39minner_input)]),\n\u001b[1;32m    <a href='file:///home/wpnx/CODES/envs_global/LLM_BASE/lib/python3.10/site-packages/langchain_core/output_parsers/base.py?line=203'>204</a>\u001b[0m             \u001b[39minput\u001b[39m,\n\u001b[1;32m    <a href='file:///home/wpnx/CODES/envs_global/LLM_BASE/lib/python3.10/site-packages/langchain_core/output_parsers/base.py?line=204'>205</a>\u001b[0m             config,\n\u001b[1;32m    <a href='file:///home/wpnx/CODES/envs_global/LLM_BASE/lib/python3.10/site-packages/langchain_core/output_parsers/base.py?line=205'>206</a>\u001b[0m             run_type\u001b[39m=\u001b[39m\u001b[39m\"\u001b[39m\u001b[39mparser\u001b[39m\u001b[39m\"\u001b[39m,\n\u001b[1;32m    <a href='file:///home/wpnx/CODES/envs_global/LLM_BASE/lib/python3.10/site-packages/langchain_core/output_parsers/base.py?line=206'>207</a>\u001b[0m         )\n",
      "File \u001b[0;32m~/CODES/envs_global/LLM_BASE/lib/python3.10/site-packages/langchain_core/output_parsers/json.py:86\u001b[0m, in \u001b[0;36mJsonOutputParser.parse_result\u001b[0;34m(self, result, partial)\u001b[0m\n\u001b[1;32m     <a href='file:///home/wpnx/CODES/envs_global/LLM_BASE/lib/python3.10/site-packages/langchain_core/output_parsers/json.py?line=83'>84</a>\u001b[0m \u001b[39mexcept\u001b[39;00m JSONDecodeError \u001b[39mas\u001b[39;00m e:\n\u001b[1;32m     <a href='file:///home/wpnx/CODES/envs_global/LLM_BASE/lib/python3.10/site-packages/langchain_core/output_parsers/json.py?line=84'>85</a>\u001b[0m     msg \u001b[39m=\u001b[39m \u001b[39mf\u001b[39m\u001b[39m\"\u001b[39m\u001b[39mInvalid json output: \u001b[39m\u001b[39m{\u001b[39;00mtext\u001b[39m}\u001b[39;00m\u001b[39m\"\u001b[39m\n\u001b[0;32m---> <a href='file:///home/wpnx/CODES/envs_global/LLM_BASE/lib/python3.10/site-packages/langchain_core/output_parsers/json.py?line=85'>86</a>\u001b[0m     \u001b[39mraise\u001b[39;00m OutputParserException(msg, llm_output\u001b[39m=\u001b[39mtext) \u001b[39mfrom\u001b[39;00m \u001b[39me\u001b[39;00m\n",
      "\u001b[0;31mOutputParserException\u001b[0m: Invalid json output: {\n    \"name\": \"John R. Whitaker\",\n    \"gender\":\"male\",\n    \"age\":52,\n    \"weight\":198,\n    \"height\":70,\n    \"BMI\":30.4 (calculated value),\n    \"chief_medical_complaint\":[\"worsening peripheral neuropathy in lower extremities\", \"chronic lower back pain\"]\n}\nFor troubleshooting, visit: https://python.langchain.com/docs/troubleshooting/errors/OUTPUT_PARSING_FAILURE"
     ]
    }
   ],
   "source": [
    "llm_ex.invoke(data1)"
   ]
  },
  {
   "cell_type": "code",
   "execution_count": 59,
   "metadata": {},
   "outputs": [
    {
     "data": {
      "text/plain": [
       "{'name': 'Emily J. Rivera',\n",
       " 'gender': 'female',\n",
       " 'age': 41,\n",
       " 'weight': 172,\n",
       " 'height': '5\\'5\" (65 inches)',\n",
       " 'BMI': 'not_given',\n",
       " 'chief_medical_complaint': 'persistent chest tightness and shortness of breath, especially during moderate activity'}"
      ]
     },
     "execution_count": 59,
     "metadata": {},
     "output_type": "execute_result"
    }
   ],
   "source": [
    "llm_ex.invoke(data2)"
   ]
  },
  {
   "cell_type": "code",
   "execution_count": 60,
   "metadata": {},
   "outputs": [
    {
     "data": {
      "text/plain": [
       "{'name': 'Karen L. Thompson',\n",
       " 'gender': 'female',\n",
       " 'age': '38',\n",
       " 'weight': '162 lbs',\n",
       " 'height': '5\\'4\"',\n",
       " 'BMI': 'not_given',\n",
       " 'chief_medical_complaint': 'dizziness, occasional heart palpitations, chronic fatigue, joint pain, insomnia'}"
      ]
     },
     "execution_count": 60,
     "metadata": {},
     "output_type": "execute_result"
    }
   ],
   "source": [
    "llm_ex.invoke(data3)"
   ]
  },
  {
   "cell_type": "code",
   "execution_count": null,
   "metadata": {},
   "outputs": [],
   "source": []
  }
 ],
 "metadata": {
  "interpreter": {
   "hash": "65d5b973df018881c1e352226f0584e29ac61ffa4b62fd4419bb6202e684198e"
  },
  "kernelspec": {
   "display_name": "Python 3.10.12 ('LLM_BASE')",
   "language": "python",
   "name": "python3"
  },
  "language_info": {
   "codemirror_mode": {
    "name": "ipython",
    "version": 3
   },
   "file_extension": ".py",
   "mimetype": "text/x-python",
   "name": "python",
   "nbconvert_exporter": "python",
   "pygments_lexer": "ipython3",
   "version": "3.10.12"
  },
  "orig_nbformat": 4
 },
 "nbformat": 4,
 "nbformat_minor": 2
}
