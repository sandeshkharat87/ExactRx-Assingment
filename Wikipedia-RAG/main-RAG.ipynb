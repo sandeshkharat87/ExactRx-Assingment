{
 "cells": [
  {
   "cell_type": "code",
   "execution_count": 2,
   "metadata": {},
   "outputs": [],
   "source": [
    "from langchain_ollama.chat_models import ChatOllama\n",
    "from langchain_core.output_parsers import JsonOutputParser, StrOutputParser\n",
    "from langchain_core.prompts import PromptTemplate\n",
    "from pprint import pprint\n",
    "from langchain_core.pydantic_v1 import BaseModel, Field"
   ]
  },
  {
   "cell_type": "code",
   "execution_count": 3,
   "metadata": {},
   "outputs": [],
   "source": [
    "\n",
    "# llm =  ChatOllama(model=\"phi3:3.8b\")\n",
    "llm =  ChatOllama(model=\"cow/gemma2_tools:2b\")"
   ]
  },
  {
   "cell_type": "code",
   "execution_count": 4,
   "metadata": {},
   "outputs": [
    {
     "name": "stderr",
     "output_type": "stream",
     "text": [
      "USER_AGENT environment variable not set, consider setting it to identify your requests.\n"
     ]
    }
   ],
   "source": [
    "from langchain.document_loaders import WebBaseLoader"
   ]
  },
  {
   "cell_type": "code",
   "execution_count": 5,
   "metadata": {},
   "outputs": [],
   "source": [
    "loader = WebBaseLoader(\"https://en.wikipedia.org/wiki/Munich\")"
   ]
  },
  {
   "cell_type": "code",
   "execution_count": 6,
   "metadata": {},
   "outputs": [],
   "source": [
    "raw_docs = loader.load()"
   ]
  },
  {
   "cell_type": "code",
   "execution_count": 8,
   "metadata": {},
   "outputs": [],
   "source": [
    "from langchain.text_splitter import RecursiveCharacterTextSplitter\n",
    "from langchain.vectorstores import FAISS\n",
    "from langchain.embeddings import HuggingFaceEmbeddings\n"
   ]
  },
  {
   "cell_type": "code",
   "execution_count": 9,
   "metadata": {},
   "outputs": [
    {
     "name": "stderr",
     "output_type": "stream",
     "text": [
      "/tmp/ipykernel_13139/3414252995.py:1: LangChainDeprecationWarning: The class `HuggingFaceEmbeddings` was deprecated in LangChain 0.2.2 and will be removed in 1.0. An updated version of the class exists in the :class:`~langchain-huggingface package and should be used instead. To use it run `pip install -U :class:`~langchain-huggingface` and import as `from :class:`~langchain_huggingface import HuggingFaceEmbeddings``.\n",
      "  embed_model = HuggingFaceEmbeddings(model_name=\"sentence-transformers/all-MiniLM-L6-v2\")\n"
     ]
    }
   ],
   "source": [
    "embed_model = HuggingFaceEmbeddings(model_name=\"sentence-transformers/all-MiniLM-L6-v2\")"
   ]
  },
  {
   "cell_type": "code",
   "execution_count": 11,
   "metadata": {},
   "outputs": [],
   "source": [
    "splitter = RecursiveCharacterTextSplitter(chunk_size=750, chunk_overlap=150, length_function=len,separators=[\"\\n\\n\",\"\\n\"])"
   ]
  },
  {
   "cell_type": "code",
   "execution_count": 12,
   "metadata": {},
   "outputs": [],
   "source": [
    "DOCS = splitter.split_documents(raw_docs)"
   ]
  },
  {
   "cell_type": "code",
   "execution_count": 13,
   "metadata": {},
   "outputs": [
    {
     "data": {
      "text/plain": [
       "295"
      ]
     },
     "execution_count": 13,
     "metadata": {},
     "output_type": "execute_result"
    }
   ],
   "source": [
    "len(DOCS)"
   ]
  },
  {
   "cell_type": "code",
   "execution_count": 14,
   "metadata": {},
   "outputs": [],
   "source": [
    "DB = FAISS.from_documents(DOCS, embed_model)"
   ]
  },
  {
   "cell_type": "code",
   "execution_count": 16,
   "metadata": {},
   "outputs": [
    {
     "data": {
      "text/plain": [
       "[Document(metadata={'source': 'https://en.wikipedia.org/wiki/Munich', 'title': 'Munich - Wikipedia', 'language': 'en'}, page_content=\"Cycling[edit]\\nMain article: Cycling in Munich\\nMap of Munich's cycling network\\nCycling has a strong presence in the city and is recognized as a good alternative. The growing number of bicycle lanes are widely used throughout the year. Cycle paths can be found alongside the majority of sidewalks and streets, although the newer or renovated ones are much easier to tell apart from pavements than older ones. A modern bike hire system is available within the area bounded by the Mittlerer Ring.\"),\n",
       " Document(metadata={'source': 'https://en.wikipedia.org/wiki/Munich', 'title': 'Munich - Wikipedia', 'language': 'en'}, page_content='Cultural history trails and bicycle routes[edit]\\nSince 2001, historically interesting places in Munich can be explored via the List of cultural history trails in Munich (KulturGeschichtsPfade). Sign-posted cycle routes are the Outer Äußere Radlring (outer cycle route) and the RadlRing München.[218]'),\n",
       " Document(metadata={'source': 'https://en.wikipedia.org/wiki/Munich', 'title': 'Munich - Wikipedia', 'language': 'en'}, page_content='Transport[edit]\\nMunich has an extensive public transport system consisting of an underground metro, trams, buses and high-speed rail. In 2015, the transport modal share in Munich was 38 percent public transport, 25 percent car, 23 percent walking, and 15 percent bicycle.[215] Its public transport system delivered 566 million passenger trips that year.[216]\\nMunich is the hub of a developed regional transportation system, including the second-largest airport in Germany and the Berlin–Munich high-speed railway, which connects Munich to the German capital city with a journey time of about 4 hours. Flixmobility which offers intercity coach service is headquartered in Munich.')]"
      ]
     },
     "execution_count": 16,
     "metadata": {},
     "output_type": "execute_result"
    }
   ],
   "source": [
    "DB.similarity_search(\"Do people use bicycles in Munich?\",k=3)"
   ]
  },
  {
   "cell_type": "code",
   "execution_count": 31,
   "metadata": {},
   "outputs": [],
   "source": [
    "template = \"\"\"\n",
    "You are a helful bot. Your task is to find the answer from the given context.\n",
    "If answer not in the context just say I dont know. \n",
    "Dont assume answers if not int context.\n",
    "\n",
    "Context : {context}\n",
    "Question: {question}\n",
    "\"\"\"\n",
    "\n",
    "prompt = PromptTemplate.from_template(template)"
   ]
  },
  {
   "cell_type": "code",
   "execution_count": 32,
   "metadata": {},
   "outputs": [],
   "source": [
    "def format_docs(question):\n",
    "    docs = [i.page_content for i in DB.similarity_search(question)]\n",
    "    docs = \"\\n\\n\".join(docs)\n",
    "    return docs"
   ]
  },
  {
   "cell_type": "code",
   "execution_count": 33,
   "metadata": {},
   "outputs": [],
   "source": [
    "from langchain_core.runnables import RunnablePassthrough\n",
    "chain = ({\"context\": format_docs, \"question\": RunnablePassthrough() } | prompt | llm |  StrOutputParser())"
   ]
  },
  {
   "cell_type": "code",
   "execution_count": 34,
   "metadata": {},
   "outputs": [
    {
     "data": {
      "text/plain": [
       "'Yes. Cycling is a strong presence in the city and recognized as a good alternative. The growing number of bicycle lanes are widely used throughout the year.\\r\\n\\r\\n'"
      ]
     },
     "execution_count": 34,
     "metadata": {},
     "output_type": "execute_result"
    }
   ],
   "source": [
    "chain.invoke(\"Do people use bicycles in Munich?\")"
   ]
  },
  {
   "cell_type": "code",
   "execution_count": 35,
   "metadata": {},
   "outputs": [
    {
     "data": {
      "text/plain": [
       "'Munich.\\r\\n'"
      ]
     },
     "execution_count": 35,
     "metadata": {},
     "output_type": "execute_result"
    }
   ],
   "source": [
    "chain.invoke(\"Which city has strongest economy of any German city \")"
   ]
  },
  {
   "cell_type": "code",
   "execution_count": 36,
   "metadata": {},
   "outputs": [
    {
     "data": {
      "text/plain": [
       "'The answer to your question can be found in the text provided: \"Munich has the lowest unemployment rate (5.4% in July 2020) of any German city of more than a million people (the others being Berlin, Hamburg and Cologne).\" \\r\\n\\r\\n**Therefore, Munich has the lowest unemployment rate in Germany.** \\r\\n'"
      ]
     },
     "execution_count": 36,
     "metadata": {},
     "output_type": "execute_result"
    }
   ],
   "source": [
    "chain.invoke(\"Which city has lowest un employment rate in german\")"
   ]
  },
  {
   "cell_type": "code",
   "execution_count": null,
   "metadata": {},
   "outputs": [],
   "source": []
  }
 ],
 "metadata": {
  "interpreter": {
   "hash": "65d5b973df018881c1e352226f0584e29ac61ffa4b62fd4419bb6202e684198e"
  },
  "kernelspec": {
   "display_name": "Python 3.10.12 ('LLM_BASE')",
   "language": "python",
   "name": "python3"
  },
  "language_info": {
   "codemirror_mode": {
    "name": "ipython",
    "version": 3
   },
   "file_extension": ".py",
   "mimetype": "text/x-python",
   "name": "python",
   "nbconvert_exporter": "python",
   "pygments_lexer": "ipython3",
   "version": "3.10.12"
  },
  "orig_nbformat": 4
 },
 "nbformat": 4,
 "nbformat_minor": 2
}
